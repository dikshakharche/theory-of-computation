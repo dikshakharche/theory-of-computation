{
 "cells": [
  {
   "cell_type": "code",
   "execution_count": null,
   "metadata": {},
   "outputs": [],
   "source": [
    "Aim:Design a program for creating machine that accepts even number of a."
   ]
  },
  {
   "cell_type": "code",
   "execution_count": 54,
   "metadata": {},
   "outputs": [
    {
     "name": "stdout",
     "output_type": "stream",
     "text": [
      "enter a stringaab\n",
      "the string is accepted\n"
     ]
    }
   ],
   "source": [
    "d={0:{'a':1,'b':0},1:{'a':0,'b':2},2:{'a':3,'b':1},3:{'a':2,'b':0}}\n",
    "stri=input(\"enter a string\")\n",
    "l=len(stri)\n",
    "fs=0\n",
    "ist=0\n",
    "def evena(s,c):\n",
    "    for i in s:\n",
    "        if i=='a':\n",
    "            c=d[c][i]\n",
    "        elif i=='b':\n",
    "            c=d[c][i]\n",
    "    if c==fs:\n",
    "        return True\n",
    "    else:\n",
    "        return False\n",
    "if evena(stri,ist):\n",
    "    print(\"the string is accepted\")\n",
    "else:\n",
    "    print(\"the string is not accepted\")"
   ]
  },
  {
   "cell_type": "code",
   "execution_count": null,
   "metadata": {},
   "outputs": [],
   "source": [
    "Aim:Design a program for creating machine that accepts even number of a."
   ]
  },
  {
   "cell_type": "code",
   "execution_count": 55,
   "metadata": {},
   "outputs": [
    {
     "name": "stdout",
     "output_type": "stream",
     "text": [
      "enter a stringaaab\n",
      "not accepted\n"
     ]
    }
   ],
   "source": [
    "d=dict()\n",
    "d[(0,'a')]=1\n",
    "d[(0,'b')]=0\n",
    "d[(1,'a')]=0\n",
    "d[(1,'b')]=2\n",
    "d[(2,'a')]=3\n",
    "d[(2,'b')]=1\n",
    "d[(3,'a')]=2\n",
    "d[(3,'b')]=0\n",
    "fs=0\n",
    "c=0\n",
    "s=input(\"enter a string\")\n",
    "for i in s:\n",
    "        if i=='a':\n",
    "            c=d[c,i]\n",
    "        elif i=='b':\n",
    "            c=d[c,i]\n",
    "if c==fs:\n",
    "    print(\"accepted\")\n",
    "else:\n",
    "    print(\"not accepted\")\n",
    "   \n"
   ]
  },
  {
   "cell_type": "code",
   "execution_count": null,
   "metadata": {},
   "outputs": [],
   "source": [
    "Aim:Design a program for creating machine that accepts even number of a using class."
   ]
  },
  {
   "cell_type": "code",
   "execution_count": 57,
   "metadata": {},
   "outputs": [
    {
     "name": "stdout",
     "output_type": "stream",
     "text": [
      "enter a stringbb\n",
      "accepted\n"
     ]
    }
   ],
   "source": [
    "class evab:\n",
    "    def __init__(self,d):\n",
    "        self.d=d\n",
    "        self.st=0\n",
    "        self.fs=0\n",
    "    def moves(self,st):\n",
    "        for i in s:\n",
    "            if i=='a':\n",
    "                self.st=d[self.st][i]\n",
    "            elif i=='b':\n",
    "                self.st=d[self.st][i]\n",
    "        if self.st==self.fs:\n",
    "            return True\n",
    "        else:\n",
    "            return False\n",
    "        \n",
    "s=input(\"enter a string\")\n",
    "d={0:{'a':1,'b':0},1:{'a':0,'b':2},2:{'a':3,'b':1},3:{'a':2,'b':0}}\n",
    "obj=evab(d)\n",
    "if obj.moves(s):\n",
    "    print(\"accepted\")\n",
    "else:\n",
    "    print(\"not accepted\")\n",
    "\n"
   ]
  }
 ],
 "metadata": {
  "kernelspec": {
   "display_name": "Python 3",
   "language": "python",
   "name": "python3"
  },
  "language_info": {
   "codemirror_mode": {
    "name": "ipython",
    "version": 3
   },
   "file_extension": ".py",
   "mimetype": "text/x-python",
   "name": "python",
   "nbconvert_exporter": "python",
   "pygments_lexer": "ipython3",
   "version": "3.6.7"
  }
 },
 "nbformat": 4,
 "nbformat_minor": 2
}

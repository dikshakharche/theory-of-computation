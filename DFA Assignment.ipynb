{
 "cells": [
  {
   "cell_type": "code",
   "execution_count": null,
   "metadata": {},
   "outputs": [],
   "source": [
    "Python program that accepts a string containing three consecutive one."
   ]
  },
  {
   "cell_type": "code",
   "execution_count": 9,
   "metadata": {},
   "outputs": [
    {
     "name": "stdout",
     "output_type": "stream",
     "text": [
      "enter a string011100\n",
      "the string is valid\n"
     ]
    }
   ],
   "source": [
    "dfa={('a',1):'b',('a',0):'a',('b',0):'a',('b',1):'c',('c',0):'a',('c',1):'d',('d',0):'d',('d',1):'d'}\n",
    "fs='d'\n",
    "s=input(\"enter a string\")\n",
    "class consecutiveone:\n",
    "    def __init__(self,dfa,s,fs):\n",
    "        self.dfa=dfa\n",
    "        self.s=s\n",
    "        self.fs=fs\n",
    "        self.ins='a'\n",
    "    def moves(self):\n",
    "        for i in self.s:\n",
    "            if int(i)==1:\n",
    "                self.ins=self.dfa[self.ins,1]\n",
    "            else:\n",
    "                self.ins=self.dfa[self.ins,0]\n",
    "        if self.fs==self.ins:\n",
    "            print(\"the string is valid\")\n",
    "        else:\n",
    "            print(\"the string is not valid\")\n",
    "obj=consecutiveone(dfa,s,fs)\n",
    "obj.moves()\n",
    "            "
   ]
  },
  {
   "cell_type": "code",
   "execution_count": 42,
   "metadata": {},
   "outputs": [
    {
     "name": "stdout",
     "output_type": "stream",
     "text": [
      "enter a string011010\n",
      "the string is not valid\n"
     ]
    }
   ],
   "source": [
    "dfa={('a',1):'b',('a',0):'a',('b',0):'a',('b',1):'c',('c',0):'a',('c',1):'d',('d',0):'d',('d',1):'d'}\n",
    "fs='d'\n",
    "s=input(\"enter a string\")\n",
    "class consecutiveone:\n",
    "    def __init__(self,dfa,s,fs):\n",
    "        self.dfa=dfa\n",
    "        self.s=s\n",
    "        self.fs=fs\n",
    "        self.ins='a'\n",
    "    def moves(self):\n",
    "        for i in self.s:\n",
    "            if int(i)==1:\n",
    "                self.ins=self.dfa[self.ins,1]\n",
    "            else:\n",
    "                self.ins=self.dfa[self.ins,0]\n",
    "        if self.fs==self.ins:\n",
    "            print(\"the string is valid\")\n",
    "        else:\n",
    "            print(\"the string is not valid\")\n",
    "obj=consecutiveone(dfa,s,fs)\n",
    "obj.moves()\n",
    "            "
   ]
  },
  {
   "cell_type": "code",
   "execution_count": null,
   "metadata": {},
   "outputs": [],
   "source": [
    "Python program that accepts a string ending with 101."
   ]
  },
  {
   "cell_type": "code",
   "execution_count": 19,
   "metadata": {},
   "outputs": [
    {
     "name": "stdout",
     "output_type": "stream",
     "text": [
      "enter a string0110101\n",
      "the string is valid\n"
     ]
    }
   ],
   "source": [
    "dfa={('a',0):'a',('a',1):'b',('b',0):'c',('b',1):'b',('c',0):'a',('c',1):'d',('d',0):'c',('d',1):'b'}\n",
    "fs='d'\n",
    "s=input(\"enter a string\")\n",
    "class DFA:\n",
    "    def __init__(self,dfa,s,fs):\n",
    "        self.dfa=dfa\n",
    "        self.s=s\n",
    "        self.fs=fs\n",
    "        self.ins='a'\n",
    "    def moves(self):\n",
    "        for i in self.s:\n",
    "            if int(i)==1:\n",
    "                self.ins=self.dfa[self.ins,1]\n",
    "            else:\n",
    "                self.ins=self.dfa[self.ins,0]\n",
    "        if self.fs==self.ins:\n",
    "            print(\"the string is valid\")\n",
    "        else:\n",
    "            print(\"the string is not valid\")\n",
    "obj=DFA(dfa,s,fs)\n",
    "obj.moves()"
   ]
  },
  {
   "cell_type": "code",
   "execution_count": 41,
   "metadata": {},
   "outputs": [
    {
     "name": "stdout",
     "output_type": "stream",
     "text": [
      "enter a string10110\n",
      "the string is not valid\n"
     ]
    }
   ],
   "source": [
    "dfa={('a',0):'a',('a',1):'b',('b',0):'c',('b',1):'b',('c',0):'a',('c',1):'d',('d',0):'c',('d',1):'b'}\n",
    "fs='d'\n",
    "s=input(\"enter a string\")\n",
    "class DFA:\n",
    "    def __init__(self,dfa,s,fs):\n",
    "        self.dfa=dfa\n",
    "        self.s=s\n",
    "        self.fs=fs\n",
    "        self.ins='a'\n",
    "    def moves(self):\n",
    "        for i in self.s:\n",
    "            if int(i)==1:\n",
    "                self.ins=self.dfa[self.ins,1]\n",
    "            else:\n",
    "                self.ins=self.dfa[self.ins,0]\n",
    "        if self.fs==self.ins:\n",
    "            print(\"the string is valid\")\n",
    "        else:\n",
    "            print(\"the string is not valid\")\n",
    "obj=DFA(dfa,s,fs)\n",
    "obj.moves()"
   ]
  },
  {
   "cell_type": "code",
   "execution_count": null,
   "metadata": {},
   "outputs": [],
   "source": [
    "program that accepts a string of length 3"
   ]
  },
  {
   "cell_type": "code",
   "execution_count": 40,
   "metadata": {},
   "outputs": [
    {
     "name": "stdout",
     "output_type": "stream",
     "text": [
      "enter a string101\n",
      "the string is valid\n"
     ]
    }
   ],
   "source": [
    "dfa={('a',0):'b',('a',1):'b',('b',0):'c',('b',1):'c',('c',0):'d',('c',1):'d',('d',0):'e',('d',1):'e',('e',0):'e',('e',1):'e'}\n",
    "fs='d'\n",
    "s=input(\"enter a string\")\n",
    "class DFA:\n",
    "    def __init__(self,dfa,s,fs):\n",
    "        self.dfa=dfa\n",
    "        self.s=s\n",
    "        self.fs=fs\n",
    "        self.ins='a'\n",
    "    def moves(self):\n",
    "        for i in self.s:\n",
    "            if int(i)==1:\n",
    "                self.ins=self.dfa[self.ins,1]\n",
    "            else:\n",
    "                self.ins=self.dfa[self.ins,0]\n",
    "        if self.fs==self.ins:\n",
    "            print(\"the string is valid\")\n",
    "        else:\n",
    "            print(\"the string is not valid\")\n",
    "obj=DFA(dfa,s,fs)\n",
    "obj.moves()"
   ]
  },
  {
   "cell_type": "code",
   "execution_count": 39,
   "metadata": {},
   "outputs": [
    {
     "name": "stdout",
     "output_type": "stream",
     "text": [
      "enter a string0101\n",
      "the string is not valid\n"
     ]
    }
   ],
   "source": [
    "dfa={('a',0):'b',('a',1):'b',('b',0):'c',('b',1):'c',('c',0):'d',('c',1):'d',('d',0):'e',('d',1):'e',('e',0):'e',('e',1):'e'}\n",
    "fs='d'\n",
    "s=input(\"enter a string\")\n",
    "class DFA:\n",
    "    def __init__(self,dfa,s,fs):\n",
    "        self.dfa=dfa\n",
    "        self.s=s\n",
    "        self.fs=fs\n",
    "        self.ins='a'\n",
    "    def moves(self):\n",
    "        for i in self.s:\n",
    "            if int(i)==1:\n",
    "                self.ins=self.dfa[self.ins,1]\n",
    "            else:\n",
    "                self.ins=self.dfa[self.ins,0]\n",
    "        if self.fs==self.ins:\n",
    "            print(\"the string is valid\")\n",
    "        else:\n",
    "            print(\"the string is not valid\")\n",
    "obj=DFA(dfa,s,fs)\n",
    "obj.moves()"
   ]
  },
  {
   "cell_type": "code",
   "execution_count": null,
   "metadata": {},
   "outputs": [],
   "source": [
    "program to accept a string containing equal number of 0 and 1"
   ]
  },
  {
   "cell_type": "code",
   "execution_count": 37,
   "metadata": {},
   "outputs": [
    {
     "name": "stdout",
     "output_type": "stream",
     "text": [
      "enter a string10001100\n",
      "the string is not valid\n"
     ]
    }
   ],
   "source": [
    "dfa={('a',0):'b',('a',1):'d',('b',0):'c',('b',1):'a',('c',0):'d',('c',1):'b',('d',0):'a',('d',1):'c'}\n",
    "fs='a'\n",
    "s=input(\"enter a string\")\n",
    "class DFA:\n",
    "    def __init__(self,dfa,s,fs):\n",
    "        self.dfa=dfa\n",
    "        self.s=s\n",
    "        self.fs=fs\n",
    "        self.ins='a'\n",
    "    def moves(self):\n",
    "        for i in self.s:\n",
    "            if int(i)==1:\n",
    "                self.ins=self.dfa[self.ins,1]\n",
    "            else:\n",
    "                self.ins=self.dfa[self.ins,0]\n",
    "        if self.fs==self.ins:\n",
    "            print(\"the string is valid\")\n",
    "        else:\n",
    "            print(\"the string is not valid\")\n",
    "obj=DFA(dfa,s,fs)\n",
    "obj.moves()"
   ]
  },
  {
   "cell_type": "code",
   "execution_count": 38,
   "metadata": {},
   "outputs": [
    {
     "name": "stdout",
     "output_type": "stream",
     "text": [
      "enter a string0101010011\n",
      "the string is valid\n"
     ]
    }
   ],
   "source": [
    "dfa={('a',0):'b',('a',1):'d',('b',0):'c',('b',1):'a',('c',0):'d',('c',1):'b',('d',0):'a',('d',1):'c'}\n",
    "fs='a'\n",
    "s=input(\"enter a string\")\n",
    "class DFA:\n",
    "    def __init__(self,dfa,s,fs):\n",
    "        self.dfa=dfa\n",
    "        self.s=s\n",
    "        self.fs=fs\n",
    "        self.ins='a'\n",
    "    def moves(self):\n",
    "        for i in self.s:\n",
    "            if int(i)==1:\n",
    "                self.ins=self.dfa[self.ins,1]\n",
    "            else:\n",
    "                self.ins=self.dfa[self.ins,0]\n",
    "        if self.fs==self.ins:\n",
    "            print(\"the string is valid\")\n",
    "        else:\n",
    "            print(\"the string is not valid\")\n",
    "obj=DFA(dfa,s,fs)\n",
    "obj.moves()"
   ]
  }
 ],
 "metadata": {
  "kernelspec": {
   "display_name": "Python 3",
   "language": "python",
   "name": "python3"
  },
  "language_info": {
   "codemirror_mode": {
    "name": "ipython",
    "version": 3
   },
   "file_extension": ".py",
   "mimetype": "text/x-python",
   "name": "python",
   "nbconvert_exporter": "python",
   "pygments_lexer": "ipython3",
   "version": "3.7.4"
  }
 },
 "nbformat": 4,
 "nbformat_minor": 2
}

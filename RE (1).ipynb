{
 "cells": [
  {
   "cell_type": "markdown",
   "metadata": {},
   "source": [
    "\n",
    "RE containing even number of \"a\" and odd number of \"b\""
   ]
  },
  {
   "cell_type": "code",
   "execution_count": 1,
   "metadata": {},
   "outputs": [
    {
     "name": "stdout",
     "output_type": "stream",
     "text": [
      "aaba\n",
      "NO\n"
     ]
    }
   ],
   "source": [
    "import re\n",
    "str = input()\n",
    "x=len(re.findall(\"a\",str))\n",
    "y=len(re.findall(\"b\",str))\n",
    "if x%2==0 and y%2!=0:\n",
    "    print(\"YES\")\n",
    "else:\n",
    "    print(\"NO\")"
   ]
  },
  {
   "cell_type": "code",
   "execution_count": 2,
   "metadata": {},
   "outputs": [
    {
     "name": "stdout",
     "output_type": "stream",
     "text": [
      "aaaabbb\n",
      "YES\n"
     ]
    }
   ],
   "source": [
    "import re\n",
    "str = input()\n",
    "x=len(re.findall(\"a\",str))\n",
    "y=len(re.findall(\"b\",str))\n",
    "if x%2==0 and y%2!=0:\n",
    "    print(\"YES\")\n",
    "else:\n",
    "    print(\"NO\")"
   ]
  },
  {
   "cell_type": "markdown",
   "metadata": {},
   "source": [
    "\n",
    "RE for string having even number of \"a\" and even number of \"b\""
   ]
  },
  {
   "cell_type": "code",
   "execution_count": 3,
   "metadata": {},
   "outputs": [
    {
     "name": "stdout",
     "output_type": "stream",
     "text": [
      "aababa\n",
      "YES\n"
     ]
    }
   ],
   "source": [
    "import re\n",
    "str = input()\n",
    "x=len(re.findall(\"a\",str))\n",
    "y=len(re.findall(\"b\",str))\n",
    "if x%2==0 and y%2==0:\n",
    "    print(\"YES\")\n",
    "else:\n",
    "    print(\"NO\")"
   ]
  },
  {
   "cell_type": "code",
   "execution_count": 4,
   "metadata": {},
   "outputs": [
    {
     "name": "stdout",
     "output_type": "stream",
     "text": [
      "aba\n",
      "NO\n"
     ]
    }
   ],
   "source": [
    "import re\n",
    "str = input()\n",
    "x=len(re.findall(\"a\",str))\n",
    "y=len(re.findall(\"b\",str))\n",
    "if x%2==0 and y%2==0:\n",
    "    print(\"YES\")\n",
    "else:\n",
    "    print(\"NO\")"
   ]
  },
  {
   "cell_type": "markdown",
   "metadata": {},
   "source": [
    "\n",
    "Language accepting the phone number(restriction +91 and 10 digits in phone number )"
   ]
  },
  {
   "cell_type": "code",
   "execution_count": 6,
   "metadata": {},
   "outputs": [
    {
     "name": "stdout",
     "output_type": "stream",
     "text": [
      " valid phone no.\n"
     ]
    }
   ],
   "source": [
    "import re\n",
    "str=\"+919426768234\"\n",
    "x=re.search(\"^\\+91[0-9]{10}$\",str)\n",
    "if(x):\n",
    "    print(\" valid phone no.\")\n",
    "else:\n",
    "    print(\" invalid phone no.\")"
   ]
  },
  {
   "cell_type": "markdown",
   "metadata": {},
   "source": [
    "\n",
    "Language accepting exactly two b's."
   ]
  },
  {
   "cell_type": "code",
   "execution_count": 7,
   "metadata": {},
   "outputs": [
    {
     "name": "stdout",
     "output_type": "stream",
     "text": [
      "String valid\n"
     ]
    }
   ],
   "source": [
    "\n",
    "import re\n",
    "str=\"ababaa\"\n",
    "x=re.search(\"a*ba*ba*\",str)\n",
    "if(x):\n",
    "    print(\"String valid\")\n",
    "else:\n",
    "    print(\"String invalid\")"
   ]
  },
  {
   "cell_type": "markdown",
   "metadata": {},
   "source": [
    "\n",
    "RE for string having \"aab\" as a substring"
   ]
  },
  {
   "cell_type": "code",
   "execution_count": 8,
   "metadata": {},
   "outputs": [
    {
     "name": "stdout",
     "output_type": "stream",
     "text": [
      "bbaaababb\n",
      "yes\n"
     ]
    }
   ],
   "source": [
    "import re\n",
    "str = input()\n",
    "x=re.search(\"[a-b]*aab[a-b]*\",str)\n",
    "if x:\n",
    "    print(\"yes\")\n",
    "else:\n",
    "    print(\"no\")"
   ]
  },
  {
   "cell_type": "code",
   "execution_count": 9,
   "metadata": {},
   "outputs": [
    {
     "name": "stdout",
     "output_type": "stream",
     "text": [
      "ababa\n",
      "no\n"
     ]
    }
   ],
   "source": [
    "import re\n",
    "str = input()\n",
    "x=re.search(\"[a-b]*aab[a-b]*\",str)\n",
    "if x:\n",
    "    print(\"yes\")\n",
    "else:\n",
    "    print(\"no\")"
   ]
  },
  {
   "cell_type": "markdown",
   "metadata": {},
   "source": [
    "\n",
    "Language containing 'a' at third last position from right side"
   ]
  },
  {
   "cell_type": "code",
   "execution_count": 11,
   "metadata": {},
   "outputs": [
    {
     "name": "stdout",
     "output_type": "stream",
     "text": [
      "String valid\n"
     ]
    }
   ],
   "source": [
    "\n",
    "import re\n",
    "str=\"baabb\"\n",
    "x=re.search(\"[a-b]*a[a-b][a-b]\",str)\n",
    "if(x):\n",
    "    print(\"String valid\")\n",
    "else:\n",
    "    print(\"String invalid\")"
   ]
  },
  {
   "cell_type": "markdown",
   "metadata": {},
   "source": [
    "RE for string having atleast one b"
   ]
  },
  {
   "cell_type": "code",
   "execution_count": 12,
   "metadata": {},
   "outputs": [
    {
     "name": "stdout",
     "output_type": "stream",
     "text": [
      "aaabaa\n",
      "YES\n"
     ]
    }
   ],
   "source": [
    "\n",
    "import re \n",
    "str = input()\n",
    "x=re.findall(\"b\",str)\n",
    "if (len(x)>=1):\n",
    "    print(\"YES\")\n",
    "else:\n",
    "    print(\"NO\")"
   ]
  },
  {
   "cell_type": "code",
   "execution_count": 14,
   "metadata": {},
   "outputs": [
    {
     "name": "stdout",
     "output_type": "stream",
     "text": [
      "aa\n",
      "NO\n"
     ]
    }
   ],
   "source": [
    "\n",
    "import re \n",
    "str = input()\n",
    "x=re.findall(\"b\",str)\n",
    "if (len(x)>=1):\n",
    "    print(\"YES\")\n",
    "else:\n",
    "    print(\"NO\")"
   ]
  },
  {
   "cell_type": "markdown",
   "metadata": {},
   "source": [
    "\n",
    "Language accepting the name in proper format(First,Middle,Last or First,Last)"
   ]
  },
  {
   "cell_type": "code",
   "execution_count": 16,
   "metadata": {},
   "outputs": [
    {
     "name": "stdout",
     "output_type": "stream",
     "text": [
      "String valid\n"
     ]
    }
   ],
   "source": [
    "import re\n",
    "str=\"Arvind Kumar Kesari\"\n",
    "x=re.search(\"^[A-Z][a-z]*[ ]+[A-Z][a-z]*$|^[A-Z][a-z]*[ ]+[A-Z][a-z]*[ ]+[A-Z][a-z]*$\",str)\n",
    "if(x):\n",
    "    print(\"String valid\")\n",
    "else:\n",
    "    print(\"String invalid\")"
   ]
  },
  {
   "cell_type": "code",
   "execution_count": null,
   "metadata": {},
   "outputs": [],
   "source": []
  }
 ],
 "metadata": {
  "kernelspec": {
   "display_name": "Python 3",
   "language": "python",
   "name": "python3"
  },
  "language_info": {
   "codemirror_mode": {
    "name": "ipython",
    "version": 3
   },
   "file_extension": ".py",
   "mimetype": "text/x-python",
   "name": "python",
   "nbconvert_exporter": "python",
   "pygments_lexer": "ipython3",
   "version": "3.7.4"
  }
 },
 "nbformat": 4,
 "nbformat_minor": 2
}

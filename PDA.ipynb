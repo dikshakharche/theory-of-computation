{
 "cells": [
  {
   "cell_type": "markdown",
   "metadata": {},
   "source": [
    " PDA that accepts string of form - a^nb^n/n>=1"
   ]
  },
  {
   "cell_type": "code",
   "execution_count": 3,
   "metadata": {},
   "outputs": [
    {
     "name": "stdout",
     "output_type": "stream",
     "text": [
      "enter the stringbbb\n",
      "unacceptable\n"
     ]
    }
   ],
   "source": [
    "class Stack:\n",
    "    def __init__(self):\n",
    "        self.l=[]\n",
    "    def push(self,item):\n",
    "        self.l.append(item)\n",
    "    def pop(self):\n",
    "        if len(self.l)!=0:\n",
    "            self.l.pop()\n",
    "        else:\n",
    "            return -1\n",
    "           \n",
    "    def isempty(self):\n",
    "        return self.l==[]\n",
    "   \n",
    "S = input(\"enter the string\")\n",
    "obj = Stack()\n",
    "for i in range(len(S)):\n",
    "    if S[i]=='a':\n",
    "        obj.push('a')\n",
    "    elif S[i]=='b':\n",
    "        result = obj.pop()\n",
    "        if result==-1:\n",
    "            break\n",
    "       \n",
    "       \n",
    "if result==-1:\n",
    "    print(\"unacceptable\")\n",
    "elif obj.isempty():\n",
    "    print(\"acceptable\")"
   ]
  },
  {
   "cell_type": "markdown",
   "metadata": {},
   "source": [
    "\n",
    "PDA that checks the balancing of different parenthesis"
   ]
  },
  {
   "cell_type": "code",
   "execution_count": 4,
   "metadata": {},
   "outputs": [
    {
     "name": "stdout",
     "output_type": "stream",
     "text": [
      "enter the string(([]{}))\n",
      "acceptable\n"
     ]
    }
   ],
   "source": [
    "class Stack:\n",
    "    def __init__(self):\n",
    "        self.l=[]\n",
    "    def push(self,item):\n",
    "        self.l.append(item)\n",
    "    def pop(self):\n",
    "        if len(self.l)!=0:\n",
    "            self.l.pop()\n",
    "        else:\n",
    "            return -1\n",
    "            \n",
    "    def isempty(self):\n",
    "        return self.l==[]\n",
    "    \n",
    "S = input(\"enter the string\")\n",
    "obj = Stack()\n",
    "for i in range(len(S)):\n",
    "    if S[i]=='[':\n",
    "        obj.push('[')\n",
    "    elif S[i]=='{':\n",
    "        obj.push('{')\n",
    "    elif S[i]=='(':\n",
    "        obj.push('(')\n",
    "    elif S[i]==']':\n",
    "        result = obj.pop()\n",
    "    elif S[i]=='}':\n",
    "        result = obj.pop()\n",
    "    elif S[i]==')':\n",
    "        result = obj.pop()\n",
    "        if result==-1:\n",
    "            break\n",
    "            \n",
    "if result==-1:\n",
    "    print(\"unacceptable\")\n",
    "elif obj.isempty():\n",
    "    print(\"acceptable\")           \n",
    "else:\n",
    "    print(\"not acceptable\")"
   ]
  }
 ],
 "metadata": {
  "kernelspec": {
   "display_name": "Python 3",
   "language": "python",
   "name": "python3"
  },
  "language_info": {
   "codemirror_mode": {
    "name": "ipython",
    "version": 3
   },
   "file_extension": ".py",
   "mimetype": "text/x-python",
   "name": "python",
   "nbconvert_exporter": "python",
   "pygments_lexer": "ipython3",
   "version": "3.7.4"
  }
 },
 "nbformat": 4,
 "nbformat_minor": 2
}

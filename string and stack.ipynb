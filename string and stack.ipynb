{
 "cells": [
  {
   "cell_type": "code",
   "execution_count": null,
   "metadata": {},
   "outputs": [],
   "source": [
    "Aim :Program in python to count the number of words in a given string"
   ]
  },
  {
   "cell_type": "code",
   "execution_count": 1,
   "metadata": {},
   "outputs": [
    {
     "name": "stdout",
     "output_type": "stream",
     "text": [
      "Enter the string:the string is\n",
      "The number of words in the string is : 3\n"
     ]
    }
   ],
   "source": [
    "stri= input(\"Enter the string:\")\n",
    "list = stri.split(\" \")\n",
    "count = len(list)\n",
    "print(\"The number of words in the string is :\",count)"
   ]
  },
  {
   "cell_type": "code",
   "execution_count": null,
   "metadata": {},
   "outputs": [],
   "source": [
    "Aim :Program in python to demonstrate the use of various string funtion"
   ]
  },
  {
   "cell_type": "code",
   "execution_count": 2,
   "metadata": {},
   "outputs": [
    {
     "name": "stdout",
     "output_type": "stream",
     "text": [
      "enter the stringwelcome to the world of computer\n",
      "Capitalization:Welcome to the world of computer\n",
      "Replaced text is :welcome to the world of python\n",
      "['welcome', 'to', 'the', 'world', 'of', 'computer']\n",
      "welcome to the world of computer\n",
      "welcome to the world of computer\n",
      "welcome to the world of computer\n",
      "Uppercase string  : WELCOME TO THE WORLD OF COMPUTER\n",
      "Lowercase string  : welcome to the world of computer\n",
      "-1\n"
     ]
    }
   ],
   "source": [
    "Stri= input(\"enter the string\")\n",
    "capital = Stri.capitalize()\n",
    "print(\"Capitalization:\" + capital)\n",
    "\n",
    "text = Stri.replace(\"computer\",\"python\")\n",
    "print(\"Replaced text is :\" + text)\n",
    "\n",
    "l= Stri.split(\" \")\n",
    "print(l)\n",
    "\n",
    "s = Stri.rstrip()\n",
    "print(s)\n",
    "\n",
    "s = Stri.lstrip()\n",
    "print(s)\n",
    "\n",
    "s = Stri.strip()\n",
    "print(s)\n",
    "\n",
    "uppercase = Stri.upper()\n",
    "print(\"Uppercase string  :\" ,uppercase)\n",
    "\n",
    "lowercase = Stri.lower()\n",
    "print(\"Lowercase string  :\" ,lowercase)\n",
    "\n",
    "i=stri.find('p')\n",
    "print(i)"
   ]
  },
  {
   "cell_type": "code",
   "execution_count": null,
   "metadata": {},
   "outputs": [],
   "source": [
    "Aim : Program in python to implement Stack data-structure"
   ]
  },
  {
   "cell_type": "code",
   "execution_count": 3,
   "metadata": {},
   "outputs": [
    {
     "name": "stdout",
     "output_type": "stream",
     "text": [
      "False\n",
      "2\n",
      "3\n",
      "False\n",
      "False\n"
     ]
    }
   ],
   "source": [
    "class Stack:\n",
    "    def __init__(self):\n",
    "        self.items=[]\n",
    "    def push(self,item):\n",
    "        self.items.append(item)\n",
    "    def pop(self):\n",
    "        self.items.pop()\n",
    "    def isempty(self):\n",
    "        return self.items==[]\n",
    "    def size(self):\n",
    "        return len(self.items)    \n",
    "obj=Stack()\n",
    "obj.push('h')\n",
    "obj.push('d')\n",
    "print(obj.isempty())\n",
    "print(obj.size())\n",
    "obj.pop()\n",
    "obj.push('gh')\n",
    "obj.push('6')\n",
    "print(obj.size())\n",
    "print(obj.isempty())\n",
    "obj.pop()\n",
    "obj.pop()\n",
    "print(obj.isempty())"
   ]
  },
  {
   "cell_type": "code",
   "execution_count": null,
   "metadata": {},
   "outputs": [],
   "source": [
    "Aim : Write a Program in python to implement the application of Stack data-structure"
   ]
  },
  {
   "cell_type": "code",
   "execution_count": 5,
   "metadata": {},
   "outputs": [
    {
     "name": "stdout",
     "output_type": "stream",
     "text": [
      "enter the string((()))\n",
      "balanced string\n"
     ]
    }
   ],
   "source": [
    "class Stack:\n",
    "    def __init__(self):\n",
    "        self.l=[]\n",
    "    def push(self,item):\n",
    "        self.l.append(item)\n",
    "    def pop(self):\n",
    "            self.l.pop()\n",
    "    def isempty(self):\n",
    "        return self.l==[]\n",
    "    def size(self):\n",
    "        return len(self.l)    \n",
    "obj=Stack()\n",
    "x=0\n",
    "stri=input(\"enter the string\")\n",
    "c=len(stri)\n",
    "for i in range(c):\n",
    "    if stri[i]=='(':\n",
    "        obj.push('(')\n",
    "    elif stri[i]==')':\n",
    "        if obj.size()==0:\n",
    "            x=1\n",
    "            break\n",
    "        obj.pop()\n",
    "if obj.size()>0:\n",
    "    print(\"unbalanced string\")\n",
    "elif x==1:\n",
    "    print(\"unbalanced string\")\n",
    "elif obj.size()==0:\n",
    "    print(\"balanced string\")\n"
   ]
  },
  {
   "cell_type": "code",
   "execution_count": null,
   "metadata": {},
   "outputs": [],
   "source": []
  }
 ],
 "metadata": {
  "kernelspec": {
   "display_name": "Python 3",
   "language": "python",
   "name": "python3"
  },
  "language_info": {
   "codemirror_mode": {
    "name": "ipython",
    "version": 3
   },
   "file_extension": ".py",
   "mimetype": "text/x-python",
   "name": "python",
   "nbconvert_exporter": "python",
   "pygments_lexer": "ipython3",
   "version": "3.7.4"
  }
 },
 "nbformat": 4,
 "nbformat_minor": 2
}

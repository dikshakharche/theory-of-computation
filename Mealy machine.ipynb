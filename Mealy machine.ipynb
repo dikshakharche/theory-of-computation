{
 "cells": [
  {
   "cell_type": "markdown",
   "metadata": {},
   "source": [
    "Design Mealy machine"
   ]
  },
  {
   "cell_type": "code",
   "execution_count": 4,
   "metadata": {},
   "outputs": [
    {
     "name": "stdout",
     "output_type": "stream",
     "text": [
      "entre the string0100\n",
      "even\n",
      "0\n"
     ]
    }
   ],
   "source": [
    "dfa={'0':{'0':['0','even'], '1':['1','odd']}, '1':{'0':['1','odd'], '1':['0','even']}}\n",
    "ss='0'\n",
    "fs=0\n",
    "dict2={}\n",
    "string=input(\"entre the string\")\n",
    "for i in range(len(string)):\n",
    "    s=string[i]\n",
    "    v=dfa[ss][s]\n",
    "    cs=v[0]\n",
    "    output=v[1]\n",
    "print(output)    \n",
    "print(ss)"
   ]
  },
  {
   "cell_type": "markdown",
   "metadata": {},
   "source": [
    "Design Mealy machine using Dictionary and Tuple"
   ]
  },
  {
   "cell_type": "code",
   "execution_count": 2,
   "metadata": {},
   "outputs": [
    {
     "name": "stdout",
     "output_type": "stream",
     "text": [
      "enter string = 0001\n",
      "a\n",
      "a\n",
      "a\n",
      "b\n",
      "odd\n"
     ]
    }
   ],
   "source": [
    "dfa = {'a':{'1':('odd','b'),'0':('even','a')},'b':{'1':('even','a'),'0':('odd','b')}}\n",
    "\n",
    "\n",
    "class String_a:\n",
    "    def __init__(self,dfa):\n",
    "        self.current_state='a'\n",
    "        \n",
    "    def moves(self,st):\n",
    "        for i in range(len(st)):\n",
    "            sample=dfa[self.current_state][st[i]]\n",
    "            print(sample[1])\n",
    "            self.current_state=sample[1]\n",
    "            output=sample[0]\n",
    "        print(output)\n",
    "st=input(\"enter string = \")\n",
    "o=String_a(dfa)\n",
    "o.moves(st)"
   ]
  },
  {
   "cell_type": "code",
   "execution_count": null,
   "metadata": {},
   "outputs": [],
   "source": []
  }
 ],
 "metadata": {
  "kernelspec": {
   "display_name": "Python 3",
   "language": "python",
   "name": "python3"
  },
  "language_info": {
   "codemirror_mode": {
    "name": "ipython",
    "version": 3
   },
   "file_extension": ".py",
   "mimetype": "text/x-python",
   "name": "python",
   "nbconvert_exporter": "python",
   "pygments_lexer": "ipython3",
   "version": "3.7.4"
  }
 },
 "nbformat": 4,
 "nbformat_minor": 2
}

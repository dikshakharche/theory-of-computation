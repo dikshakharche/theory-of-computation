{
 "cells": [
  {
   "cell_type": "code",
   "execution_count": null,
   "metadata": {},
   "outputs": [],
   "source": [
    "Aim:Program in python to implement queue data structure"
   ]
  },
  {
   "cell_type": "code",
   "execution_count": 1,
   "metadata": {},
   "outputs": [
    {
     "name": "stdout",
     "output_type": "stream",
     "text": [
      "enter your choice\n",
      " 1 for push\n",
      " 2 for pop\n",
      " 0 for exit1\n",
      "enter the element5\n",
      "['5']\n",
      "enter your choice\n",
      " 1 for push\n",
      " 2 for pop\n",
      " 0 for exit6\n",
      "[]\n",
      "enter your choice\n",
      " 1 for push\n",
      " 2 for pop\n",
      " 0 for exit66\n",
      "queue is empty\n",
      "enter your choice\n",
      " 1 for push\n",
      " 2 for pop\n",
      " 0 for exit2\n",
      "queue is empty\n",
      "enter your choice\n",
      " 1 for push\n",
      " 2 for pop\n",
      " 0 for exit2\n",
      "queue is empty\n",
      "enter your choice\n",
      " 1 for push\n",
      " 2 for pop\n",
      " 0 for exit2\n",
      "queue is empty\n",
      "enter your choice\n",
      " 1 for push\n",
      " 2 for pop\n",
      " 0 for exit0\n"
     ]
    }
   ],
   "source": [
    "class Queue:\n",
    "    def __init__(self):\n",
    "        self.list=[]\n",
    "    \n",
    "    def push(self,item):\n",
    "        if len(self.list)>5:\n",
    "            print(\"queue is full\") \n",
    "        else:       \n",
    "            self.list.append(item)\n",
    "            print(self.list)\n",
    "    def pop(self):\n",
    "        if len(self.list)==0:\n",
    "            print(\"queue is empty\")\n",
    "        else:\n",
    "            del self.list[0]\n",
    "            print(self.list)\n",
    "\n",
    "obj=Queue()\n",
    "while True:\n",
    "    option=int(input(\"enter your choice\\n 1 for push\\n 2 for pop\\n 0 for exit\"))\n",
    "    if option==0:\n",
    "        break\n",
    "    elif option==1:\n",
    "        element=input(\"enter the element\")\n",
    "        obj.push(element)\n",
    "    else:\n",
    "        obj.pop()\n"
   ]
  },
  {
   "cell_type": "code",
   "execution_count": null,
   "metadata": {},
   "outputs": [],
   "source": [
    "Aim:Program in python to implement dqueue data structure"
   ]
  },
  {
   "cell_type": "code",
   "execution_count": 2,
   "metadata": {},
   "outputs": [
    {
     "name": "stdout",
     "output_type": "stream",
     "text": [
      "enter your choice\n",
      " 1 for inserting element at frontend of the queue\n",
      " 2 for inserting element at rearend of the queue\n",
      " 3 for deleting element from frontend of the queue\n",
      " 4 for deleting element at rearend of the queue\n",
      " 0 for exit1\n",
      "enter the element77\n",
      "['77']\n",
      "enter your choice\n",
      " 1 for inserting element at frontend of the queue\n",
      " 2 for inserting element at rearend of the queue\n",
      " 3 for deleting element from frontend of the queue\n",
      " 4 for deleting element at rearend of the queue\n",
      " 0 for exit2\n",
      "enter the element989\n",
      "['77', '989']\n",
      "enter your choice\n",
      " 1 for inserting element at frontend of the queue\n",
      " 2 for inserting element at rearend of the queue\n",
      " 3 for deleting element from frontend of the queue\n",
      " 4 for deleting element at rearend of the queue\n",
      " 0 for exit4\n",
      "['77']\n",
      "enter your choice\n",
      " 1 for inserting element at frontend of the queue\n",
      " 2 for inserting element at rearend of the queue\n",
      " 3 for deleting element from frontend of the queue\n",
      " 4 for deleting element at rearend of the queue\n",
      " 0 for exit0\n"
     ]
    }
   ],
   "source": [
    "class Dqueue:\n",
    "    def __init__(self):\n",
    "        self.list=[]\n",
    "    \n",
    "    def pushfront(self,item):\n",
    "        if len(self.list)>5:\n",
    "            print(\"queue is full\") \n",
    "        else:       \n",
    "            self.list.insert(0,item)\n",
    "            print(self.list)\n",
    "    def pushrear(self,item):\n",
    "        if len(self.list)>5:\n",
    "            print(\"queue is full\") \n",
    "        else:       \n",
    "            self.list.append(item)\n",
    "            print(self.list)\n",
    "    \n",
    "    def popfront(self):\n",
    "        if len(self.list)==0:\n",
    "            print(\"queue is empty\")\n",
    "        else:\n",
    "            del self.list[0]\n",
    "            print(self.list)\n",
    "    \n",
    "    def poprear(self):\n",
    "        if len(self.list)==0:\n",
    "            print(\"queue is empty\")\n",
    "        else:\n",
    "            x=len(self.list)\n",
    "            del self.list[x-1]\n",
    "            print(self.list)\n",
    "\n",
    "obj=Dqueue()\n",
    "while True:\n",
    "    option=int(input(\"enter your choice\\n 1 for inserting element at frontend of the queue\\n 2 for inserting element at rearend of the queue\\n 3 for deleting element from frontend of the queue\\n 4 for deleting element at rearend of the queue\\n 0 for exit\"))\n",
    "    if option==0:\n",
    "        break\n",
    "    elif option==1:\n",
    "        element=input(\"enter the element\")\n",
    "        obj.pushfront(element)\n",
    "    elif option==2:\n",
    "        element=input(\"enter the element\")\n",
    "        obj.pushrear(element)\n",
    "    elif option==3:\n",
    "        obj.popfront()\n",
    "    else:\n",
    "        obj.poprear()\n"
   ]
  },
  {
   "cell_type": "code",
   "execution_count": null,
   "metadata": {},
   "outputs": [],
   "source": []
  }
 ],
 "metadata": {
  "kernelspec": {
   "display_name": "Python 3",
   "language": "python",
   "name": "python3"
  },
  "language_info": {
   "codemirror_mode": {
    "name": "ipython",
    "version": 3
   },
   "file_extension": ".py",
   "mimetype": "text/x-python",
   "name": "python",
   "nbconvert_exporter": "python",
   "pygments_lexer": "ipython3",
   "version": "3.7.4"
  }
 },
 "nbformat": 4,
 "nbformat_minor": 2
}
